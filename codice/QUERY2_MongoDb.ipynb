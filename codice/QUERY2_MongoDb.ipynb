{
 "cells": [
  {
   "cell_type": "code",
   "execution_count": 1,
   "metadata": {},
   "outputs": [],
   "source": [
    "import pandas as pd\n",
    "import json\n",
    "from pymongo import MongoClient\n",
    "from pprint import pprint"
   ]
  },
  {
   "cell_type": "markdown",
   "metadata": {},
   "source": [
    "Importo db_STD.json a cui sono stati aggiunte nuove colonne le seguenti colonne: \n",
    "\n",
    "     • 'avg_score', rappresenta il punteggio di gradimento ottenuto calcolato come la media di score2 dentro la colonna 'tweet' \n",
    "        diviso il numero di tweets ottenuti dallo screaping;\n",
    "     • 'IMBD_Rating_std', è il punteggio 'IMDB_Rating' standardizzato;\n",
    "     • 'avg_score_std', è il punteggio 'avg_score' standardizzato;\n",
    "     • 'diff_std_rating', differenza fra i punteggi IMBD_Rating_std e avg_score_std\n",
    "    \n",
    "Il nuovo database viene caricato in Mongo Express, in modo da non dover lavorare in locale, e tramite il linguaggio MongoDB si effettuano delle interrogazioni utiliti per raggiungere gli obiettivi prefissati."
   ]
  },
  {
   "cell_type": "code",
   "execution_count": 5,
   "metadata": {},
   "outputs": [],
   "source": [
    "with open ('db_STD.json') as f:\n",
    "    data1 = json.load(f)"
   ]
  },
  {
   "cell_type": "code",
   "execution_count": 6,
   "metadata": {},
   "outputs": [],
   "source": [
    "data1_df = pd.DataFrame(data1)"
   ]
  },
  {
   "cell_type": "code",
   "execution_count": 8,
   "metadata": {
    "collapsed": true,
    "jupyter": {
     "outputs_hidden": true
    }
   },
   "outputs": [
    {
     "data": {
      "text/html": [
       "<div>\n",
       "<style scoped>\n",
       "    .dataframe tbody tr th:only-of-type {\n",
       "        vertical-align: middle;\n",
       "    }\n",
       "\n",
       "    .dataframe tbody tr th {\n",
       "        vertical-align: top;\n",
       "    }\n",
       "\n",
       "    .dataframe thead th {\n",
       "        text-align: right;\n",
       "    }\n",
       "</style>\n",
       "<table border=\"1\" class=\"dataframe\">\n",
       "  <thead>\n",
       "    <tr style=\"text-align: right;\">\n",
       "      <th></th>\n",
       "      <th>_id</th>\n",
       "      <th>show_id</th>\n",
       "      <th>type</th>\n",
       "      <th>title</th>\n",
       "      <th>director</th>\n",
       "      <th>cast</th>\n",
       "      <th>country</th>\n",
       "      <th>rating</th>\n",
       "      <th>duration</th>\n",
       "      <th>Certificate</th>\n",
       "      <th>Runtime_of_Episodes</th>\n",
       "      <th>Genre</th>\n",
       "      <th>IMDB_Rating</th>\n",
       "      <th>No_of_Votes</th>\n",
       "      <th>tweet</th>\n",
       "      <th>avg_score</th>\n",
       "      <th>IMDB_Rating_std</th>\n",
       "      <th>avg_score_std</th>\n",
       "      <th>diff_std_rating</th>\n",
       "    </tr>\n",
       "  </thead>\n",
       "  <tbody>\n",
       "    <tr>\n",
       "      <td>0</td>\n",
       "      <td>{'$oid': '60deeaa603da8f55eb4792e5'}</td>\n",
       "      <td>s1026</td>\n",
       "      <td>TV Show</td>\n",
       "      <td>BoJack Horseman</td>\n",
       "      <td>None</td>\n",
       "      <td>Will Arnett, Aaron Paul, Amy Sedaris, Alison B...</td>\n",
       "      <td>United States</td>\n",
       "      <td>TV-MA</td>\n",
       "      <td>6 Seasons</td>\n",
       "      <td>18+</td>\n",
       "      <td>25 min</td>\n",
       "      <td>Animation, Comedy, Drama</td>\n",
       "      <td>8.7</td>\n",
       "      <td>113345</td>\n",
       "      <td>[{'_id': '60dae6af60d63d1fa250cb25', 'text': '...</td>\n",
       "      <td>0.04625</td>\n",
       "      <td>1.151325</td>\n",
       "      <td>0.110309</td>\n",
       "      <td>1.041016</td>\n",
       "    </tr>\n",
       "    <tr>\n",
       "      <td>1</td>\n",
       "      <td>{'$oid': '60deeaa603da8f55eb4792e6'}</td>\n",
       "      <td>s1052</td>\n",
       "      <td>TV Show</td>\n",
       "      <td>Borgen</td>\n",
       "      <td>None</td>\n",
       "      <td>Sidse Babett Knudsen, Birgitte Hjort Sørensen,...</td>\n",
       "      <td>Denmark</td>\n",
       "      <td>TV-MA</td>\n",
       "      <td>3 Seasons</td>\n",
       "      <td>16</td>\n",
       "      <td>58 min</td>\n",
       "      <td>Drama</td>\n",
       "      <td>8.5</td>\n",
       "      <td>19655</td>\n",
       "      <td>[{'_id': '60dae6af60d63d1fa2508b1a', 'text': '...</td>\n",
       "      <td>0.15100</td>\n",
       "      <td>0.928795</td>\n",
       "      <td>0.631056</td>\n",
       "      <td>0.297739</td>\n",
       "    </tr>\n",
       "  </tbody>\n",
       "</table>\n",
       "</div>"
      ],
      "text/plain": [
       "                                    _id show_id     type            title  \\\n",
       "0  {'$oid': '60deeaa603da8f55eb4792e5'}   s1026  TV Show  BoJack Horseman   \n",
       "1  {'$oid': '60deeaa603da8f55eb4792e6'}   s1052  TV Show           Borgen   \n",
       "\n",
       "  director                                               cast        country  \\\n",
       "0     None  Will Arnett, Aaron Paul, Amy Sedaris, Alison B...  United States   \n",
       "1     None  Sidse Babett Knudsen, Birgitte Hjort Sørensen,...        Denmark   \n",
       "\n",
       "  rating   duration Certificate Runtime_of_Episodes                     Genre  \\\n",
       "0  TV-MA  6 Seasons         18+              25 min  Animation, Comedy, Drama   \n",
       "1  TV-MA  3 Seasons          16              58 min                     Drama   \n",
       "\n",
       "   IMDB_Rating  No_of_Votes  \\\n",
       "0          8.7       113345   \n",
       "1          8.5        19655   \n",
       "\n",
       "                                               tweet  avg_score  \\\n",
       "0  [{'_id': '60dae6af60d63d1fa250cb25', 'text': '...    0.04625   \n",
       "1  [{'_id': '60dae6af60d63d1fa2508b1a', 'text': '...    0.15100   \n",
       "\n",
       "   IMDB_Rating_std  avg_score_std  diff_std_rating  \n",
       "0         1.151325       0.110309         1.041016  \n",
       "1         0.928795       0.631056         0.297739  "
      ]
     },
     "execution_count": 8,
     "metadata": {},
     "output_type": "execute_result"
    }
   ],
   "source": [
    "data1_df.head(2)"
   ]
  },
  {
   "cell_type": "code",
   "execution_count": 9,
   "metadata": {},
   "outputs": [],
   "source": [
    "data1_df.drop(['_id'], axis = 1, inplace = True)"
   ]
  },
  {
   "cell_type": "code",
   "execution_count": 10,
   "metadata": {
    "collapsed": true,
    "jupyter": {
     "outputs_hidden": true
    }
   },
   "outputs": [
    {
     "data": {
      "text/html": [
       "<div>\n",
       "<style scoped>\n",
       "    .dataframe tbody tr th:only-of-type {\n",
       "        vertical-align: middle;\n",
       "    }\n",
       "\n",
       "    .dataframe tbody tr th {\n",
       "        vertical-align: top;\n",
       "    }\n",
       "\n",
       "    .dataframe thead th {\n",
       "        text-align: right;\n",
       "    }\n",
       "</style>\n",
       "<table border=\"1\" class=\"dataframe\">\n",
       "  <thead>\n",
       "    <tr style=\"text-align: right;\">\n",
       "      <th></th>\n",
       "      <th>show_id</th>\n",
       "      <th>type</th>\n",
       "      <th>title</th>\n",
       "      <th>director</th>\n",
       "      <th>cast</th>\n",
       "      <th>country</th>\n",
       "      <th>rating</th>\n",
       "      <th>duration</th>\n",
       "      <th>Certificate</th>\n",
       "      <th>Runtime_of_Episodes</th>\n",
       "      <th>Genre</th>\n",
       "      <th>IMDB_Rating</th>\n",
       "      <th>No_of_Votes</th>\n",
       "      <th>tweet</th>\n",
       "      <th>avg_score</th>\n",
       "      <th>IMDB_Rating_std</th>\n",
       "      <th>avg_score_std</th>\n",
       "      <th>diff_std_rating</th>\n",
       "    </tr>\n",
       "  </thead>\n",
       "  <tbody>\n",
       "    <tr>\n",
       "      <td>0</td>\n",
       "      <td>s1026</td>\n",
       "      <td>TV Show</td>\n",
       "      <td>BoJack Horseman</td>\n",
       "      <td>None</td>\n",
       "      <td>Will Arnett, Aaron Paul, Amy Sedaris, Alison B...</td>\n",
       "      <td>United States</td>\n",
       "      <td>TV-MA</td>\n",
       "      <td>6 Seasons</td>\n",
       "      <td>18+</td>\n",
       "      <td>25 min</td>\n",
       "      <td>Animation, Comedy, Drama</td>\n",
       "      <td>8.7</td>\n",
       "      <td>113345</td>\n",
       "      <td>[{'_id': '60dae6af60d63d1fa250cb25', 'text': '...</td>\n",
       "      <td>0.04625</td>\n",
       "      <td>1.151325</td>\n",
       "      <td>0.110309</td>\n",
       "      <td>1.041016</td>\n",
       "    </tr>\n",
       "    <tr>\n",
       "      <td>1</td>\n",
       "      <td>s1052</td>\n",
       "      <td>TV Show</td>\n",
       "      <td>Borgen</td>\n",
       "      <td>None</td>\n",
       "      <td>Sidse Babett Knudsen, Birgitte Hjort Sørensen,...</td>\n",
       "      <td>Denmark</td>\n",
       "      <td>TV-MA</td>\n",
       "      <td>3 Seasons</td>\n",
       "      <td>16</td>\n",
       "      <td>58 min</td>\n",
       "      <td>Drama</td>\n",
       "      <td>8.5</td>\n",
       "      <td>19655</td>\n",
       "      <td>[{'_id': '60dae6af60d63d1fa2508b1a', 'text': '...</td>\n",
       "      <td>0.15100</td>\n",
       "      <td>0.928795</td>\n",
       "      <td>0.631056</td>\n",
       "      <td>0.297739</td>\n",
       "    </tr>\n",
       "  </tbody>\n",
       "</table>\n",
       "</div>"
      ],
      "text/plain": [
       "  show_id     type            title director  \\\n",
       "0   s1026  TV Show  BoJack Horseman     None   \n",
       "1   s1052  TV Show           Borgen     None   \n",
       "\n",
       "                                                cast        country rating  \\\n",
       "0  Will Arnett, Aaron Paul, Amy Sedaris, Alison B...  United States  TV-MA   \n",
       "1  Sidse Babett Knudsen, Birgitte Hjort Sørensen,...        Denmark  TV-MA   \n",
       "\n",
       "    duration Certificate Runtime_of_Episodes                     Genre  \\\n",
       "0  6 Seasons         18+              25 min  Animation, Comedy, Drama   \n",
       "1  3 Seasons          16              58 min                     Drama   \n",
       "\n",
       "   IMDB_Rating  No_of_Votes  \\\n",
       "0          8.7       113345   \n",
       "1          8.5        19655   \n",
       "\n",
       "                                               tweet  avg_score  \\\n",
       "0  [{'_id': '60dae6af60d63d1fa250cb25', 'text': '...    0.04625   \n",
       "1  [{'_id': '60dae6af60d63d1fa2508b1a', 'text': '...    0.15100   \n",
       "\n",
       "   IMDB_Rating_std  avg_score_std  diff_std_rating  \n",
       "0         1.151325       0.110309         1.041016  \n",
       "1         0.928795       0.631056         0.297739  "
      ]
     },
     "execution_count": 10,
     "metadata": {},
     "output_type": "execute_result"
    }
   ],
   "source": [
    "data1_df.head(2)"
   ]
  },
  {
   "cell_type": "code",
   "execution_count": 20,
   "metadata": {},
   "outputs": [],
   "source": [
    "data1 = data1_df.to_dict(orient = 'records')"
   ]
  },
  {
   "cell_type": "code",
   "execution_count": 21,
   "metadata": {},
   "outputs": [
    {
     "data": {
      "text/plain": [
       "<pymongo.results.InsertManyResult at 0x7f1289245cc8>"
      ]
     },
     "execution_count": 21,
     "metadata": {},
     "output_type": "execute_result"
    }
   ],
   "source": [
    "client.Query.Df_query_avg_norm_intero.insert_many(data1)"
   ]
  },
  {
   "cell_type": "code",
   "execution_count": 22,
   "metadata": {},
   "outputs": [],
   "source": [
    "db = client.Query\n",
    "database = db.Df_query_avg_norm_intero"
   ]
  },
  {
   "cell_type": "markdown",
   "metadata": {},
   "source": [
    "### Raggruppo per country e calcolo lo score medio dell'avg dello score2 normalizzato"
   ]
  },
  {
   "cell_type": "code",
   "execution_count": 57,
   "metadata": {
    "collapsed": true,
    "jupyter": {
     "outputs_hidden": true
    }
   },
   "outputs": [
    {
     "data": {
      "text/plain": [
       "[{'_id': 'Canada, United Kingdom', 'valor_medio_sentiment': -2.317},\n",
       " {'_id': 'United Kingdom, United States', 'valor_medio_sentiment': -0.246},\n",
       " {'_id': 'Italy', 'valor_medio_sentiment': -0.018},\n",
       " {'_id': 'Ireland, United Kingdom, United States',\n",
       "  'valor_medio_sentiment': -2.031},\n",
       " {'_id': 'United States, Colombia, Mexico', 'valor_medio_sentiment': 0.212},\n",
       " {'_id': 'Germany', 'valor_medio_sentiment': -0.209},\n",
       " {'_id': 'United Kingdom, Canada, United States',\n",
       "  'valor_medio_sentiment': 1.282},\n",
       " {'_id': 'France, Canada', 'valor_medio_sentiment': -0.12},\n",
       " {'_id': None, 'valor_medio_sentiment': 0.255},\n",
       " {'_id': 'United Kingdom, Spain', 'valor_medio_sentiment': 0.527},\n",
       " {'_id': 'United States, Mexico, Spain, Malta',\n",
       "  'valor_medio_sentiment': -0.685},\n",
       " {'_id': 'France', 'valor_medio_sentiment': 0.136},\n",
       " {'_id': 'Denmark', 'valor_medio_sentiment': 0.065},\n",
       " {'_id': 'Turkey', 'valor_medio_sentiment': 1.9},\n",
       " {'_id': 'India', 'valor_medio_sentiment': -0.511},\n",
       " {'_id': 'Denmark, United States', 'valor_medio_sentiment': -0.538},\n",
       " {'_id': 'Australia', 'valor_medio_sentiment': 0.359},\n",
       " {'_id': 'Austria, Germany', 'valor_medio_sentiment': 0.378},\n",
       " {'_id': 'Egypt', 'valor_medio_sentiment': -0.199},\n",
       " {'_id': 'France, United States', 'valor_medio_sentiment': 0.353},\n",
       " {'_id': 'India, United States', 'valor_medio_sentiment': -0.12},\n",
       " {'_id': 'United States, United Kingdom', 'valor_medio_sentiment': -0.565},\n",
       " {'_id': 'Norway', 'valor_medio_sentiment': 0.67},\n",
       " {'_id': 'Japan', 'valor_medio_sentiment': 0.135},\n",
       " {'_id': 'Canada, United States', 'valor_medio_sentiment': 0.052},\n",
       " {'_id': 'Spain', 'valor_medio_sentiment': 0.399},\n",
       " {'_id': 'United States, Mexico', 'valor_medio_sentiment': -0.12},\n",
       " {'_id': 'United Kingdom', 'valor_medio_sentiment': 0.16},\n",
       " {'_id': 'Canada', 'valor_medio_sentiment': -0.043},\n",
       " {'_id': 'Brazil', 'valor_medio_sentiment': -0.513},\n",
       " {'_id': 'South Korea', 'valor_medio_sentiment': 0.377},\n",
       " {'_id': 'United States, Hungary, Ireland, Canada',\n",
       "  'valor_medio_sentiment': -0.12},\n",
       " {'_id': 'Ireland, Canada, United States, United Kingdom',\n",
       "  'valor_medio_sentiment': 0.022},\n",
       " {'_id': 'Germany, United States', 'valor_medio_sentiment': -0.055},\n",
       " {'_id': 'United States', 'valor_medio_sentiment': -0.021},\n",
       " {'_id': 'United States, Canada', 'valor_medio_sentiment': 0.047},\n",
       " {'_id': 'Norway, United States', 'valor_medio_sentiment': -1.792},\n",
       " {'_id': 'United States, Poland', 'valor_medio_sentiment': 0.143},\n",
       " {'_id': 'Israel', 'valor_medio_sentiment': 0.106},\n",
       " {'_id': 'Jordan', 'valor_medio_sentiment': 0.993},\n",
       " {'_id': 'Norway, Denmark', 'valor_medio_sentiment': -0.002}]"
      ]
     },
     "execution_count": 57,
     "metadata": {},
     "output_type": "execute_result"
    }
   ],
   "source": [
    "results = database.aggregate([\n",
    "   {'$group':{\n",
    "          '_id': '$country',\n",
    "          'valor_medio_sentiment': {'$avg': '$avg_score_std'}\n",
    "        }\n",
    "    },\n",
    "    { '$project': { 'valor_medio_sentiment': { '$round': [ \"$valor_medio_sentiment\", 3 ] } } },\n",
    "\n",
    "])\n",
    "[result for result in results]"
   ]
  },
  {
   "cell_type": "markdown",
   "metadata": {},
   "source": [
    "### Raggruppo per stagioni e calcolo lo score medio normalizzato"
   ]
  },
  {
   "cell_type": "code",
   "execution_count": 45,
   "metadata": {
    "collapsed": true,
    "jupyter": {
     "outputs_hidden": true
    }
   },
   "outputs": [
    {
     "data": {
      "text/plain": [
       "[{'_id': '1 Season', 'valor_medio_sentiment': -0.13},\n",
       " {'_id': '10 Seasons', 'valor_medio_sentiment': 1.101},\n",
       " {'_id': '11 Seasons', 'valor_medio_sentiment': 0.644},\n",
       " {'_id': '15 Seasons', 'valor_medio_sentiment': 0.198},\n",
       " {'_id': '2 Seasons', 'valor_medio_sentiment': 0.293},\n",
       " {'_id': '3 Seasons', 'valor_medio_sentiment': 0.141},\n",
       " {'_id': '4 Seasons', 'valor_medio_sentiment': -0.225},\n",
       " {'_id': '5 Seasons', 'valor_medio_sentiment': -0.336},\n",
       " {'_id': '6 Seasons', 'valor_medio_sentiment': 0.294},\n",
       " {'_id': '7 Seasons', 'valor_medio_sentiment': -0.423},\n",
       " {'_id': '8 Seasons', 'valor_medio_sentiment': 0.146},\n",
       " {'_id': '9 Seasons', 'valor_medio_sentiment': -1.032}]"
      ]
     },
     "execution_count": 45,
     "metadata": {},
     "output_type": "execute_result"
    }
   ],
   "source": [
    "results = database.aggregate([\n",
    "   {'$group': {\n",
    "          '_id': '$duration',\n",
    "          'valor_medio_sentiment': {'$avg': '$avg_score_std'}\n",
    "        }\n",
    "    },\n",
    "    { '$sort': { '_id' : 1 } },\n",
    "    { '$project': { 'valor_medio_sentiment': { '$round': [ \"$valor_medio_sentiment\", 3 ] } } },\n",
    "])\n",
    "[result for result in results]"
   ]
  },
  {
   "cell_type": "markdown",
   "metadata": {},
   "source": [
    "### Raggruppo per country e calcolo lo score medio della sentiment e di IMDB normalizzati"
   ]
  },
  {
   "cell_type": "code",
   "execution_count": 56,
   "metadata": {
    "collapsed": true,
    "jupyter": {
     "outputs_hidden": true
    }
   },
   "outputs": [
    {
     "data": {
      "text/plain": [
       "[{'_id': 'Canada, United Kingdom',\n",
       "  'valor_medio_sentiment': -2.317,\n",
       "  'valor_medio_IMDB': 0.706},\n",
       " {'_id': 'United Kingdom, United States',\n",
       "  'valor_medio_sentiment': -0.246,\n",
       "  'valor_medio_IMDB': 1.596},\n",
       " {'_id': 'Italy', 'valor_medio_sentiment': -0.018, 'valor_medio_IMDB': -0.963},\n",
       " {'_id': 'Ireland, United Kingdom, United States',\n",
       "  'valor_medio_sentiment': -2.031,\n",
       "  'valor_medio_IMDB': 0.595},\n",
       " {'_id': 'United States, Colombia, Mexico',\n",
       "  'valor_medio_sentiment': 0.212,\n",
       "  'valor_medio_IMDB': 1.263},\n",
       " {'_id': 'Germany',\n",
       "  'valor_medio_sentiment': -0.209,\n",
       "  'valor_medio_IMDB': -0.518},\n",
       " {'_id': 'United Kingdom, Canada, United States',\n",
       "  'valor_medio_sentiment': 1.282,\n",
       "  'valor_medio_IMDB': 1.04},\n",
       " {'_id': 'France, Canada',\n",
       "  'valor_medio_sentiment': -0.12,\n",
       "  'valor_medio_IMDB': 0.261},\n",
       " {'_id': None, 'valor_medio_sentiment': 0.255, 'valor_medio_IMDB': -1.334},\n",
       " {'_id': 'United Kingdom, Spain',\n",
       "  'valor_medio_sentiment': 0.527,\n",
       "  'valor_medio_IMDB': -1.185},\n",
       " {'_id': 'United States, Mexico, Spain, Malta',\n",
       "  'valor_medio_sentiment': -0.685,\n",
       "  'valor_medio_IMDB': 0.261},\n",
       " {'_id': 'France', 'valor_medio_sentiment': 0.136, 'valor_medio_IMDB': -0.184},\n",
       " {'_id': 'Denmark', 'valor_medio_sentiment': 0.065, 'valor_medio_IMDB': 0.706},\n",
       " {'_id': 'Turkey', 'valor_medio_sentiment': 1.9, 'valor_medio_IMDB': -0.295},\n",
       " {'_id': 'India', 'valor_medio_sentiment': -0.511, 'valor_medio_IMDB': -0.796},\n",
       " {'_id': 'Denmark, United States',\n",
       "  'valor_medio_sentiment': -0.538,\n",
       "  'valor_medio_IMDB': -1.519},\n",
       " {'_id': 'Australia',\n",
       "  'valor_medio_sentiment': 0.359,\n",
       "  'valor_medio_IMDB': 0.521},\n",
       " {'_id': 'Austria, Germany',\n",
       "  'valor_medio_sentiment': 0.378,\n",
       "  'valor_medio_IMDB': -1.297},\n",
       " {'_id': 'Egypt', 'valor_medio_sentiment': -0.199, 'valor_medio_IMDB': 0.484},\n",
       " {'_id': 'France, United States',\n",
       "  'valor_medio_sentiment': 0.353,\n",
       "  'valor_medio_IMDB': -1.185},\n",
       " {'_id': 'India, United States',\n",
       "  'valor_medio_sentiment': -0.12,\n",
       "  'valor_medio_IMDB': 1.04},\n",
       " {'_id': 'United States, United Kingdom',\n",
       "  'valor_medio_sentiment': -0.565,\n",
       "  'valor_medio_IMDB': -0.851},\n",
       " {'_id': 'Norway', 'valor_medio_sentiment': 0.67, 'valor_medio_IMDB': 0.15},\n",
       " {'_id': 'Japan', 'valor_medio_sentiment': 0.135, 'valor_medio_IMDB': 0.706},\n",
       " {'_id': 'Canada, United States',\n",
       "  'valor_medio_sentiment': 0.052,\n",
       "  'valor_medio_IMDB': -0.703},\n",
       " {'_id': 'Spain', 'valor_medio_sentiment': 0.399, 'valor_medio_IMDB': 0.595},\n",
       " {'_id': 'United States, Mexico',\n",
       "  'valor_medio_sentiment': -0.12,\n",
       "  'valor_medio_IMDB': 0.929},\n",
       " {'_id': 'United Kingdom',\n",
       "  'valor_medio_sentiment': 0.16,\n",
       "  'valor_medio_IMDB': 0.372},\n",
       " {'_id': 'Canada',\n",
       "  'valor_medio_sentiment': -0.043,\n",
       "  'valor_medio_IMDB': -0.518},\n",
       " {'_id': 'Brazil', 'valor_medio_sentiment': -0.513, 'valor_medio_IMDB': 0.039},\n",
       " {'_id': 'South Korea',\n",
       "  'valor_medio_sentiment': 0.377,\n",
       "  'valor_medio_IMDB': 0.818},\n",
       " {'_id': 'United States, Hungary, Ireland, Canada',\n",
       "  'valor_medio_sentiment': -0.12,\n",
       "  'valor_medio_IMDB': 0.261},\n",
       " {'_id': 'Ireland, Canada, United States, United Kingdom',\n",
       "  'valor_medio_sentiment': 0.022,\n",
       "  'valor_medio_IMDB': 0.484},\n",
       " {'_id': 'Germany, United States',\n",
       "  'valor_medio_sentiment': -0.055,\n",
       "  'valor_medio_IMDB': 1.263},\n",
       " {'_id': 'United States',\n",
       "  'valor_medio_sentiment': -0.021,\n",
       "  'valor_medio_IMDB': 0.005},\n",
       " {'_id': 'United States, Canada',\n",
       "  'valor_medio_sentiment': 0.047,\n",
       "  'valor_medio_IMDB': 0.039},\n",
       " {'_id': 'Norway, United States',\n",
       "  'valor_medio_sentiment': -1.792,\n",
       "  'valor_medio_IMDB': 0.372},\n",
       " {'_id': 'United States, Poland',\n",
       "  'valor_medio_sentiment': 0.143,\n",
       "  'valor_medio_IMDB': 0.595},\n",
       " {'_id': 'Israel', 'valor_medio_sentiment': 0.106, 'valor_medio_IMDB': 0.595},\n",
       " {'_id': 'Jordan', 'valor_medio_sentiment': 0.993, 'valor_medio_IMDB': -4.634},\n",
       " {'_id': 'Norway, Denmark',\n",
       "  'valor_medio_sentiment': -0.002,\n",
       "  'valor_medio_IMDB': -0.184}]"
      ]
     },
     "execution_count": 56,
     "metadata": {},
     "output_type": "execute_result"
    }
   ],
   "source": [
    "results = database.aggregate([\n",
    "    {'$group':{\n",
    "          '_id': '$country',\n",
    "          'valor_medio_sentiment': {'$avg': '$avg_score_std'},\n",
    "          'valor_medio_IMDB': {'$avg': '$IMDB_Rating_std'}\n",
    "        }\n",
    "    },\n",
    "    { '$project': { 'valor_medio_sentiment': { '$round': [ \"$valor_medio_sentiment\", 3 ] },\n",
    "                   'valor_medio_IMDB': { '$round': [ \"$valor_medio_IMDB\", 3 ] }, }\n",
    "    },\n",
    "    \n",
    "])\n",
    "[result for result in results]"
   ]
  }
 ],
 "metadata": {
  "kernelspec": {
   "display_name": "Python 3",
   "language": "python",
   "name": "python3"
  },
  "language_info": {
   "codemirror_mode": {
    "name": "ipython",
    "version": 3
   },
   "file_extension": ".py",
   "mimetype": "text/x-python",
   "name": "python",
   "nbconvert_exporter": "python",
   "pygments_lexer": "ipython3",
   "version": "3.7.3"
  }
 },
 "nbformat": 4,
 "nbformat_minor": 4
}
