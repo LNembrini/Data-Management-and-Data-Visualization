{
 "cells": [
  {
   "cell_type": "code",
   "execution_count": 1,
   "metadata": {},
   "outputs": [],
   "source": [
    "import pandas as pd\n",
    "from pymongo import MongoClient\n",
    "import re"
   ]
  },
  {
   "cell_type": "code",
   "execution_count": 2,
   "metadata": {},
   "outputs": [],
   "source": [
    "client= MongoClient('mongo', 27017, username='admin', password='DataMan2019!')"
   ]
  },
  {
   "cell_type": "code",
   "execution_count": 3,
   "metadata": {
    "collapsed": true
   },
   "outputs": [
    {
     "data": {
      "text/plain": [
       "553"
      ]
     },
     "execution_count": 3,
     "metadata": {},
     "output_type": "execute_result"
    }
   ],
   "source": [
    "db = list(client.db_tweets_completo1.tweets2.find())"
   ]
  },
  {
   "cell_type": "code",
   "execution_count": 15,
   "metadata": {},
   "outputs": [],
   "source": [
    "db2= pd.DataFrame(db)"
   ]
  },
  {
   "cell_type": "markdown",
   "metadata": {},
   "source": [
    "Effettuo nel campo testo una ricerca contentente la stessa lista delle serie che abbiamo usato per lo streaming da Twitter, perchè Tweepy effettua la ricerca su ogni campo del tweet. Però a noi non è utile avere un tweet che relativo al nostro argomento abbia ad esempio il nome utente ma non il testo."
   ]
  },
  {
   "cell_type": "code",
   "execution_count": 17,
   "metadata": {
    "collapsed": true,
    "jupyter": {
     "outputs_hidden": true
    }
   },
   "outputs": [
    {
     "data": {
      "text/html": [
       "<div>\n",
       "<style scoped>\n",
       "    .dataframe tbody tr th:only-of-type {\n",
       "        vertical-align: middle;\n",
       "    }\n",
       "\n",
       "    .dataframe tbody tr th {\n",
       "        vertical-align: top;\n",
       "    }\n",
       "\n",
       "    .dataframe thead th {\n",
       "        text-align: right;\n",
       "    }\n",
       "</style>\n",
       "<table border=\"1\" class=\"dataframe\">\n",
       "  <thead>\n",
       "    <tr style=\"text-align: right;\">\n",
       "      <th></th>\n",
       "      <th>_id</th>\n",
       "      <th>text</th>\n",
       "      <th>hashtags</th>\n",
       "    </tr>\n",
       "  </thead>\n",
       "  <tbody>\n",
       "    <tr>\n",
       "      <td>3</td>\n",
       "      <td>60d4964d37317e54bd1202d4</td>\n",
       "      <td>RT @TeaPainUSA: Terrorists in suits.\\n\\nhttps:...</td>\n",
       "      <td>[]</td>\n",
       "    </tr>\n",
       "    <tr>\n",
       "      <td>4</td>\n",
       "      <td>60d4964d37317e54bd1202d5</td>\n",
       "      <td>RT @SZNBYUL: wheein suits every hair colour; a...</td>\n",
       "      <td>[]</td>\n",
       "    </tr>\n",
       "    <tr>\n",
       "      <td>9</td>\n",
       "      <td>60d4964d37317e54bd1202da</td>\n",
       "      <td>RT @A3Wiki: Tenma as \"Leo\" the treasure hunter...</td>\n",
       "      <td>[]</td>\n",
       "    </tr>\n",
       "    <tr>\n",
       "      <td>10</td>\n",
       "      <td>60d4964d37317e54bd1202db</td>\n",
       "      <td>lucifer, the bold type, shadow hunters, shadow...</td>\n",
       "      <td>[]</td>\n",
       "    </tr>\n",
       "    <tr>\n",
       "      <td>12</td>\n",
       "      <td>60d4964d37317e54bd1202dd</td>\n",
       "      <td>RT @yootaeyangkr: white suits sf9 the best &amp;lt...</td>\n",
       "      <td>[]</td>\n",
       "    </tr>\n",
       "    <tr>\n",
       "      <td>...</td>\n",
       "      <td>...</td>\n",
       "      <td>...</td>\n",
       "      <td>...</td>\n",
       "    </tr>\n",
       "    <tr>\n",
       "      <td>541</td>\n",
       "      <td>60d4964d37317e54bd1204ee</td>\n",
       "      <td>RT @SuperReebz_YT: https://t.co/JM5hfrv8fr\\nNe...</td>\n",
       "      <td>[]</td>\n",
       "    </tr>\n",
       "    <tr>\n",
       "      <td>542</td>\n",
       "      <td>60d4964d37317e54bd1204ef</td>\n",
       "      <td>#CCVictory Uso's even imagining Asher as the p...</td>\n",
       "      <td>[CCVictory]</td>\n",
       "    </tr>\n",
       "    <tr>\n",
       "      <td>546</td>\n",
       "      <td>60d4964d37317e54bd1204f3</td>\n",
       "      <td>This Edge of Glory by the Year &amp;amp; Years sou...</td>\n",
       "      <td>[]</td>\n",
       "    </tr>\n",
       "    <tr>\n",
       "      <td>549</td>\n",
       "      <td>60d4964d37317e54bd1204f6</td>\n",
       "      <td>RT @fpa: Screening of the film \"Once Upon a Ti...</td>\n",
       "      <td>[]</td>\n",
       "    </tr>\n",
       "    <tr>\n",
       "      <td>552</td>\n",
       "      <td>60d4964d37317e54bd1204f9</td>\n",
       "      <td>RT @TeaPainUSA: Terrorists in suits.\\n\\nhttps:...</td>\n",
       "      <td>[]</td>\n",
       "    </tr>\n",
       "  </tbody>\n",
       "</table>\n",
       "<p>203 rows × 3 columns</p>\n",
       "</div>"
      ],
      "text/plain": [
       "                          _id  \\\n",
       "3    60d4964d37317e54bd1202d4   \n",
       "4    60d4964d37317e54bd1202d5   \n",
       "9    60d4964d37317e54bd1202da   \n",
       "10   60d4964d37317e54bd1202db   \n",
       "12   60d4964d37317e54bd1202dd   \n",
       "..                        ...   \n",
       "541  60d4964d37317e54bd1204ee   \n",
       "542  60d4964d37317e54bd1204ef   \n",
       "546  60d4964d37317e54bd1204f3   \n",
       "549  60d4964d37317e54bd1204f6   \n",
       "552  60d4964d37317e54bd1204f9   \n",
       "\n",
       "                                                  text     hashtags  \n",
       "3    RT @TeaPainUSA: Terrorists in suits.\\n\\nhttps:...           []  \n",
       "4    RT @SZNBYUL: wheein suits every hair colour; a...           []  \n",
       "9    RT @A3Wiki: Tenma as \"Leo\" the treasure hunter...           []  \n",
       "10   lucifer, the bold type, shadow hunters, shadow...           []  \n",
       "12   RT @yootaeyangkr: white suits sf9 the best &lt...           []  \n",
       "..                                                 ...          ...  \n",
       "541  RT @SuperReebz_YT: https://t.co/JM5hfrv8fr\\nNe...           []  \n",
       "542  #CCVictory Uso's even imagining Asher as the p...  [CCVictory]  \n",
       "546  This Edge of Glory by the Year &amp; Years sou...           []  \n",
       "549  RT @fpa: Screening of the film \"Once Upon a Ti...           []  \n",
       "552  RT @TeaPainUSA: Terrorists in suits.\\n\\nhttps:...           []  \n",
       "\n",
       "[203 rows x 3 columns]"
      ]
     },
     "execution_count": 17,
     "metadata": {},
     "output_type": "execute_result"
    }
   ],
   "source": [
    "idx3 = db2['text'].str.contains(r'Vikings|Lagertha|Ragnar|HistoryVikings|Jupiters Legacy|Locke and key|Peaky Blinders|Sex Education 2| \\\n",
    "Casa de papel|Sex Education 3|Stranger Things|The last dance|The OA|Narcos|Ragnarok|dark netflix|dark jonas| \\\n",
    "dark martha|Ozark|Martin Byrde|Wendy Byrde|Bruce Liddell|Lucifer|Chloe Decker|Daniel Espinoza|Lucifer Morningstar| \\\n",
    "Amenadiel|Elite 3 netflix|Elite 4 netflix|The Witcher|kissing booth 3|kissing booth 2| \\\n",
    "The Umbrella Academy|Vanya Hargreeves|Luther Hargreeves|Diego Hargreeves|Allison Hargreeves| \\\n",
    "Klaus Hargreeves|Cinque Hargreeves|Pogo|Reginald Hargreeves|geralt of rivia|Suburra|Breaking Bad|The Walking Dead| \\\n",
    "Sherlock|Dexter|House of Cards|Black Mirror|Arrow|Supernatural|Suits|Better Call Saul|Homeland|The Flash|The Vampire Diaries| \\\n",
    "Orange Is the New Black|American Horror Story|Arrested Development|13 Reasons Why|Greys Anatomy|Avatar The Last Airbender| \\\n",
    "Hannibal|Parks and Recreation|Gotham|Once Upon a Time|Mad Men|The Blacklist|Twin Peaks|Person of Interest|Criminal Minds| \\\n",
    "Gossip Girl|That 70s Show|The Crown|Altered Carbon|Sense8|Glee|How to Get Away with Murder| \\\n",
    "Riverdale|Supergirl|Cobra Kai|Love Death & Robots|Designated Survivor|Merlin|Star Trek|Lost in Space|Naruto',\n",
    "                                   flags=re.IGNORECASE, regex=True, na=False)\n",
    "database = db2[idx3]\n",
    "database"
   ]
  },
  {
   "cell_type": "code",
   "execution_count": 24,
   "metadata": {
    "collapsed": true
   },
   "outputs": [
    {
     "data": {
      "text/plain": [
       "203"
      ]
     },
     "execution_count": 24,
     "metadata": {},
     "output_type": "execute_result"
    }
   ],
   "source": [
    "datab2 = database.to_dict(orient='records')"
   ]
  },
  {
   "cell_type": "code",
   "execution_count": 25,
   "metadata": {},
   "outputs": [
    {
     "data": {
      "text/plain": [
       "<pymongo.results.InsertManyResult at 0x7fe9ac03f888>"
      ]
     },
     "execution_count": 25,
     "metadata": {},
     "output_type": "execute_result"
    }
   ],
   "source": [
    "client.Progetto_dm.Database_pulito.insert_many(datab2)"
   ]
  }
 ],
 "metadata": {
  "kernelspec": {
   "display_name": "Python 3",
   "language": "python",
   "name": "python3"
  },
  "language_info": {
   "codemirror_mode": {
    "name": "ipython",
    "version": 3
   },
   "file_extension": ".py",
   "mimetype": "text/x-python",
   "name": "python",
   "nbconvert_exporter": "python",
   "pygments_lexer": "ipython3",
   "version": "3.8.3"
  }
 },
 "nbformat": 4,
 "nbformat_minor": 4
}
